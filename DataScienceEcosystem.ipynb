{
 "cells": [
  {
   "cell_type": "markdown",
   "id": "7e1e310c-38e3-4588-bf6f-df282bff237e",
   "metadata": {},
   "source": [
    "# Data Science Ecosystem"
   ]
  },
  {
   "cell_type": "markdown",
   "id": "0c336d6e-0634-45f8-adbf-12bc45385356",
   "metadata": {
    "tags": []
   },
   "source": [
    "### In this notebook, Data Science Tools and Ecosystem are summarized."
   ]
  },
  {
   "cell_type": "markdown",
   "id": "aec20813-9051-4074-a641-1a8de890cf3d",
   "metadata": {},
   "source": [
    "**Objectives:**\n",
    "\n",
    "- List popular languages for Data Science\n",
    "- Identify commonly used libraries in Data Science\n",
    "- List development environments in Data Science\n",
    "- Demonstrate evaluating arithmetic expressions in Python\n",
    "- Convert minutes to hours using Python"
   ]
  },
  {
   "cell_type": "markdown",
   "id": "0021d9f6-fd11-4e32-b697-755601c897f8",
   "metadata": {},
   "source": [
    "#### Some of the popular languages that Data Scientists use are:\n",
    "\n",
    "    1. Python\n",
    "    2. R\n",
    "    3. SQL\n",
    "    4. Julia"
   ]
  },
  {
   "cell_type": "markdown",
   "id": "c8b4d6de-b2ed-4c91-a8e0-6e5b9c52b6c7",
   "metadata": {},
   "source": [
    "#### Some of the commonly used libraries used by Data Scientists include:\n",
    "\n",
    "1. NumPy\n",
    "2. Pandas\n",
    "3. Matplotlib\n",
    "4. Scikit-learn"
   ]
  },
  {
   "cell_type": "markdown",
   "id": "136f655f-7984-4a3e-a24b-0171f9d68c72",
   "metadata": {
    "tags": []
   },
   "source": [
    "<table>\n",
    "    <tr>\n",
    "        <th>Data Science Tools</th>\n",
    "    </tr>\n",
    "    <tr>\n",
    "        <td>Jupyter Notebook</td>\n",
    "    </tr>\n",
    "    <tr>\n",
    "        <td>RStudio</td>\n",
    "    </tr>\n",
    "    <tr>\n",
    "        <td>Apache Zeppelin</td>\n",
    "    </tr>\n",
    "</table>"
   ]
  },
  {
   "cell_type": "markdown",
   "id": "e15a89b0-bd33-460c-bceb-fca363c93a70",
   "metadata": {},
   "source": [
    "### Below are a few examples of evaluating arithmetic expressions in Python."
   ]
  },
  {
   "cell_type": "code",
   "execution_count": 3,
   "id": "55f167a9-60f3-4ea1-97dc-c304b5e40a19",
   "metadata": {
    "tags": []
   },
   "outputs": [
    {
     "data": {
      "text/plain": [
       "17"
      ]
     },
     "execution_count": 3,
     "metadata": {},
     "output_type": "execute_result"
    }
   ],
   "source": [
    "# This is a simple arithmetic expression to multiply then add integers.\n",
    "(3 * 4) + 5"
   ]
  },
  {
   "cell_type": "code",
   "execution_count": 4,
   "id": "f2672df3-5d8d-44a5-9e8e-7909492fca5e",
   "metadata": {
    "tags": []
   },
   "outputs": [
    {
     "data": {
      "text/plain": [
       "3.3333333333333335"
      ]
     },
     "execution_count": 4,
     "metadata": {},
     "output_type": "execute_result"
    }
   ],
   "source": [
    "# This will convert 200 minutes to hours by dividing by 60.\n",
    "200 / 60"
   ]
  },
  {
   "cell_type": "markdown",
   "id": "ce40bd0e-f251-4e29-8276-bade09353b13",
   "metadata": {},
   "source": [
    "## Author\n",
    "\n",
    "Jayati"
   ]
  }
 ],
 "metadata": {
  "kernelspec": {
   "display_name": "Python",
   "language": "python",
   "name": "conda-env-python-py"
  },
  "language_info": {
   "codemirror_mode": {
    "name": "ipython",
    "version": 3
   },
   "file_extension": ".py",
   "mimetype": "text/x-python",
   "name": "python",
   "nbconvert_exporter": "python",
   "pygments_lexer": "ipython3",
   "version": "3.7.12"
  }
 },
 "nbformat": 4,
 "nbformat_minor": 5
}
